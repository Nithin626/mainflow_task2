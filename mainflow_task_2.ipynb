{
  "nbformat": 4,
  "nbformat_minor": 0,
  "metadata": {
    "colab": {
      "provenance": []
    },
    "kernelspec": {
      "name": "python3",
      "display_name": "Python 3"
    },
    "language_info": {
      "name": "python"
    }
  },
  "cells": [
    {
      "cell_type": "markdown",
      "source": [
        "Importing pandas"
      ],
      "metadata": {
        "id": "HiA_CQHjQhNb"
      }
    },
    {
      "cell_type": "code",
      "execution_count": 14,
      "metadata": {
        "id": "Lu9sXvbKPbzz"
      },
      "outputs": [],
      "source": [
        "import pandas as pd\n"
      ]
    },
    {
      "cell_type": "markdown",
      "source": [
        "Load a CSV file into a Pandas DataFrame\n"
      ],
      "metadata": {
        "id": "LXD4djuNQmJq"
      }
    },
    {
      "cell_type": "code",
      "source": [
        "df = pd.read_csv('/content/01.Data Cleaning and Preprocessing.csv')\n"
      ],
      "metadata": {
        "id": "STT1-PRiQpMw"
      },
      "execution_count": 15,
      "outputs": []
    },
    {
      "cell_type": "markdown",
      "source": [
        "Display the first few rows of the DataFrame"
      ],
      "metadata": {
        "id": "KFePem5cTlg9"
      }
    },
    {
      "cell_type": "code",
      "source": [
        "print(\"First few rows of the dataset:\")\n",
        "print(df.head())"
      ],
      "metadata": {
        "colab": {
          "base_uri": "https://localhost:8080/"
        },
        "id": "tf1XRtSqTtDl",
        "outputId": "7ee8e7c1-5f1f-44d1-8b82-0b3ec5523066"
      },
      "execution_count": 16,
      "outputs": [
        {
          "output_type": "stream",
          "name": "stdout",
          "text": [
            "First few rows of the dataset:\n",
            "  Observation  Y-Kappa  ChipRate  BF-CMratio  BlowFlow  ChipLevel4   \\\n",
            "0    31-00:00    23.10    16.520     121.717  1177.607      169.805   \n",
            "1    31-01:00    27.60    16.810      79.022  1328.360      341.327   \n",
            "2    31-02:00    23.19    16.709      79.562  1329.407      239.161   \n",
            "3    31-03:00    23.60    16.478      81.011  1334.877      213.527   \n",
            "4    31-04:00    22.90    15.618      93.244  1334.168      243.131   \n",
            "\n",
            "   T-upperExt-2   T-lowerExt-2    UCZAA  WhiteFlow-4   ...  SteamFlow-4   \\\n",
            "0        358.282         329.545  1.443       599.253  ...        67.122   \n",
            "1        351.050         329.067  1.549       537.201  ...        60.012   \n",
            "2        350.022         329.260  1.600       549.611  ...        61.304   \n",
            "3        350.938         331.142  1.604       623.362  ...        68.496   \n",
            "4        351.640         332.709    NaN       638.672  ...        70.022   \n",
            "\n",
            "   Lower-HeatT-3  Upper-HeatT-3   ChipMass-4   WeakLiquorF   BlackFlow-2   \\\n",
            "0        329.432         303.099      175.964      1127.197      1319.039   \n",
            "1        330.823         304.879      163.202       665.975      1297.317   \n",
            "2        329.140         303.383      164.013       677.534      1327.072   \n",
            "3        328.875         302.254      181.487       767.853      1324.461   \n",
            "4        328.352         300.954      183.929       888.448      1343.424   \n",
            "\n",
            "   WeakWashF   SteamHeatF-3   T-Top-Chips-4   SulphidityL-4   \n",
            "0     257.325         54.612         252.077             NaN  \n",
            "1     241.182         46.603         251.406           29.11  \n",
            "2     237.272         51.795         251.335             NaN  \n",
            "3     239.478         54.846         250.312           29.02  \n",
            "4     215.372         54.186         249.916           29.01  \n",
            "\n",
            "[5 rows x 23 columns]\n"
          ]
        }
      ]
    },
    {
      "cell_type": "markdown",
      "source": [
        "Identify numeric columns\n"
      ],
      "metadata": {
        "id": "7I0gWqdNTuzK"
      }
    },
    {
      "cell_type": "code",
      "source": [
        "numeric_columns = df.select_dtypes(include=['number']).columns.tolist()\n"
      ],
      "metadata": {
        "id": "Qr0h0CT-SHkV"
      },
      "execution_count": 17,
      "outputs": []
    },
    {
      "cell_type": "markdown",
      "source": [
        "Handle missing values only in numeric columns by filling them with the mean\n"
      ],
      "metadata": {
        "id": "oAoOM_IDTxXO"
      }
    },
    {
      "cell_type": "code",
      "source": [
        "df_filled = df.copy()\n",
        "for col in numeric_columns:\n",
        "    df_filled[col] = df_filled[col].fillna(df_filled[col].mean())\n"
      ],
      "metadata": {
        "id": "JTypnu6ISJbI"
      },
      "execution_count": 18,
      "outputs": []
    },
    {
      "cell_type": "code",
      "source": [
        "print(\"\\nData with missing values handled (filled with mean) for numeric columns:\")\n",
        "print(df_filled)\n"
      ],
      "metadata": {
        "colab": {
          "base_uri": "https://localhost:8080/"
        },
        "id": "XSqt2h3pSJiq",
        "outputId": "dbc15957-8c19-4cbc-bc63-5481a6b03a70"
      },
      "execution_count": 19,
      "outputs": [
        {
          "output_type": "stream",
          "name": "stdout",
          "text": [
            "\n",
            "Data with missing values handled (filled with mean) for numeric columns:\n",
            "    Observation  Y-Kappa  ChipRate  BF-CMratio  BlowFlow  ChipLevel4   \\\n",
            "0      31-00:00    23.10    16.520     121.717  1177.607      169.805   \n",
            "1      31-01:00    27.60    16.810      79.022  1328.360      341.327   \n",
            "2      31-02:00    23.19    16.709      79.562  1329.407      239.161   \n",
            "3      31-03:00    23.60    16.478      81.011  1334.877      213.527   \n",
            "4      31-04:00    22.90    15.618      93.244  1334.168      243.131   \n",
            "..          ...      ...       ...         ...       ...          ...   \n",
            "319    10-16:00    23.75    12.667      93.450  1178.252      276.955   \n",
            "320     9-19:00    19.80    12.558      94.352  1184.119      297.071   \n",
            "321     9-20:00    23.01    12.550      90.842  1188.517      289.826   \n",
            "322     9-21:00    24.32    13.083      88.910  1192.879      318.006   \n",
            "323     9-22:00    25.75    13.417      85.451  1186.342      248.312   \n",
            "\n",
            "     T-upperExt-2   T-lowerExt-2      UCZAA  WhiteFlow-4   ...  SteamFlow-4   \\\n",
            "0          358.282         329.545  1.44300       599.253  ...        67.122   \n",
            "1          351.050         329.067  1.54900       537.201  ...        60.012   \n",
            "2          350.022         329.260  1.60000       549.611  ...        61.304   \n",
            "3          350.938         331.142  1.60400       623.362  ...        68.496   \n",
            "4          351.640         332.709  1.49201       638.672  ...        70.022   \n",
            "..             ...             ...      ...           ...  ...           ...   \n",
            "319        347.286         310.970  1.52300       513.956  ...        61.141   \n",
            "320        399.135         319.576  1.45100       570.058  ...        67.667   \n",
            "321        373.633         314.591  1.45700       549.306  ...        66.446   \n",
            "322        364.081         308.559  1.52300       504.852  ...        61.054   \n",
            "323        356.289         310.482  1.47400       497.375  ...        58.247   \n",
            "\n",
            "     Lower-HeatT-3  Upper-HeatT-3   ChipMass-4   WeakLiquorF   BlackFlow-2   \\\n",
            "0          329.432         303.099      175.964      1127.197      1319.039   \n",
            "1          330.823         304.879      163.202       665.975      1297.317   \n",
            "2          329.140         303.383      164.013       677.534      1327.072   \n",
            "3          328.875         302.254      181.487       767.853      1324.461   \n",
            "4          328.352         300.954      183.929       888.448      1343.424   \n",
            "..             ...             ...          ...           ...           ...   \n",
            "319        330.117         304.006      148.174      1027.201      1357.271   \n",
            "320        330.848         304.616      165.178       906.962      1311.177   \n",
            "321        330.226         304.686      160.841       887.125      1319.226   \n",
            "322        327.346         304.363      147.589       804.423      1320.225   \n",
            "323        328.092         304.093      144.218       828.328      1320.848   \n",
            "\n",
            "     WeakWashF   SteamHeatF-3   T-Top-Chips-4   SulphidityL-4   \n",
            "0       257.325         54.612         252.077       30.411671  \n",
            "1       241.182         46.603         251.406       29.110000  \n",
            "2       237.272         51.795         251.335       30.411671  \n",
            "3       239.478         54.846         250.312       29.020000  \n",
            "4       215.372         54.186         249.916       29.010000  \n",
            "..          ...            ...             ...             ...  \n",
            "319     381.643         45.264         252.947       30.860000  \n",
            "320      25.494         50.528         252.092       30.700000  \n",
            "321       0.638         45.549         252.438       30.411671  \n",
            "322       0.000         43.725         253.176       31.130000  \n",
            "323       1.276         43.840         253.216       30.411671  \n",
            "\n",
            "[324 rows x 23 columns]\n"
          ]
        }
      ]
    },
    {
      "cell_type": "markdown",
      "source": [
        "Filter data based on a condition (example: filter rows where 'ChipRate' > 50)"
      ],
      "metadata": {
        "id": "GOIhsyA_ST6_"
      }
    },
    {
      "cell_type": "code",
      "source": [
        "if 'ChipRate' in numeric_columns:\n",
        "    filtered_df = df_filled[df_filled['ChipRate'] > 50]\n",
        "    print(\"\\nFiltered data (ChipRate > 50):\")\n",
        "    print(filtered_df)\n",
        ""
      ],
      "metadata": {
        "colab": {
          "base_uri": "https://localhost:8080/"
        },
        "id": "NbhuG5-GSXXX",
        "outputId": "392bd740-5c1f-4ecb-e435-9d4fedf5b55c"
      },
      "execution_count": 21,
      "outputs": [
        {
          "output_type": "stream",
          "name": "stdout",
          "text": [
            "\n",
            "Filtered data (ChipRate > 50):\n",
            "Empty DataFrame\n",
            "Columns: [Observation, Y-Kappa, ChipRate, BF-CMratio, BlowFlow, ChipLevel4 , T-upperExt-2 , T-lowerExt-2  , UCZAA, WhiteFlow-4 , AAWhiteSt-4 , AA-Wood-4  , ChipMoisture-4 , SteamFlow-4 , Lower-HeatT-3, Upper-HeatT-3 , ChipMass-4 , WeakLiquorF , BlackFlow-2 , WeakWashF , SteamHeatF-3 , T-Top-Chips-4 , SulphidityL-4 ]\n",
            "Index: []\n",
            "\n",
            "[0 rows x 23 columns]\n"
          ]
        }
      ]
    },
    {
      "cell_type": "markdown",
      "source": [
        "New filtering operation based on 'SteamFlow-4' column\n",
        "Ensure the column is numeric before filtering"
      ],
      "metadata": {
        "id": "oFNvSktgVqHK"
      }
    },
    {
      "cell_type": "code",
      "source": [
        "if 'SteamFlow-4' in numeric_columns:\n",
        "    filtered_df_steamflow = df_filled[df_filled['SteamFlow-4'] > 50]  # Adjust the threshold as needed\n",
        "    print(\"\\nFiltered data (SteamFlow-4 > 50):\")\n",
        "    print(filtered_df_steamflow)"
      ],
      "metadata": {
        "id": "usP70Bb4VvQq"
      },
      "execution_count": 22,
      "outputs": []
    },
    {
      "cell_type": "code",
      "source": [
        "if 'T-upperExt-2' in numeric_columns and 'T-lowerExt-2' in numeric_columns:\n",
        "    df_filled['T-totalExt'] = df_filled['T-upperExt-2'] + df_filled['T-lowerExt-2']\n",
        "    print(\"\\nData with new column 'T-totalExt':\")\n",
        "    print(df_filled.head())"
      ],
      "metadata": {
        "id": "2snRe6VwVx9E"
      },
      "execution_count": 23,
      "outputs": []
    },
    {
      "cell_type": "markdown",
      "source": [
        "Calculate summary statistics for numeric columns\n"
      ],
      "metadata": {
        "id": "JIrIctbRSQLv"
      }
    },
    {
      "cell_type": "code",
      "source": [
        "summary_statistics = df_filled.describe()\n",
        "print(\"\\nSummary statistics of the dataset for numeric columns:\")\n",
        "print(summary_statistics)"
      ],
      "metadata": {
        "colab": {
          "base_uri": "https://localhost:8080/"
        },
        "id": "jBrCBltUSJnC",
        "outputId": "899d421d-3ac5-4357-bdfd-b2d932a3d54a"
      },
      "execution_count": 24,
      "outputs": [
        {
          "output_type": "stream",
          "name": "stdout",
          "text": [
            "\n",
            "Summary statistics of the dataset for numeric columns:\n",
            "          Y-Kappa    ChipRate  BF-CMratio     BlowFlow  ChipLevel4   \\\n",
            "count  324.000000  324.000000  324.000000   324.000000   324.000000   \n",
            "mean    20.635370   14.347937   87.464456  1237.837614   258.164483   \n",
            "std      3.070036    1.487447    7.781774    98.070606    87.851143   \n",
            "min     12.170000    9.983000   68.645000     0.000000     0.000000   \n",
            "25%     18.382500   13.364750   82.156750  1194.525750   213.527000   \n",
            "50%     20.845000   14.347937   87.253500  1254.658500   271.605500   \n",
            "75%     23.032500   15.498250   92.123250  1288.628750   321.285000   \n",
            "max     27.600000   16.958000  121.717000  1351.240000   419.014000   \n",
            "\n",
            "       T-upperExt-2   T-lowerExt-2         UCZAA  WhiteFlow-4   AAWhiteSt-4   \\\n",
            "count     324.000000       324.00000  324.000000     324.00000    324.000000   \n",
            "mean      356.904295       324.02018    1.492010     591.73226      6.140410   \n",
            "std         9.180734         7.59777    0.101741      66.91253      0.059553   \n",
            "min       339.168000       284.63300    1.182000     405.11100      5.890000   \n",
            "25%       350.291750       321.48600    1.436000     541.00225      6.130000   \n",
            "50%       356.901648       325.63850    1.492010     592.71700      6.140410   \n",
            "75%       362.104750       329.14700    1.555250     639.45775      6.140410   \n",
            "max       399.135000       337.01200    1.747000     731.39400      6.340000   \n",
            "\n",
            "       ...  SteamFlow-4   Lower-HeatT-3  Upper-HeatT-3   ChipMass-4   \\\n",
            "count  ...    324.000000     324.000000      324.000000   324.000000   \n",
            "mean   ...     66.668285     325.567820      300.525699   162.222322   \n",
            "std    ...      5.699744       4.595568        4.554318    14.138751   \n",
            "min    ...     48.568000     318.051000      293.312000   113.922000   \n",
            "25%    ...     62.539000     321.386500      296.513750   153.089750   \n",
            "50%    ...     67.408000     325.225500      299.184500   163.601000   \n",
            "75%    ...     71.519500     329.835750      304.228250   172.555000   \n",
            "max    ...     76.147000     333.854000      311.146000   189.268000   \n",
            "\n",
            "       WeakLiquorF   BlackFlow-2   WeakWashF   SteamHeatF-3   T-Top-Chips-4   \\\n",
            "count    324.000000    324.000000  324.000000     324.000000      324.000000   \n",
            "mean     873.828941   1175.917016  263.543068      49.696907      251.240087   \n",
            "std      121.884406    148.870958  163.413391       4.537794        1.281444   \n",
            "min      486.938000    838.948000    0.000000      35.510000      248.359000   \n",
            "25%      792.150250   1047.260500  134.688500      46.411250      250.312000   \n",
            "50%      865.457500   1152.547500  266.983500      50.192500      251.375000   \n",
            "75%      965.152250   1318.991750  405.411500      53.284750      252.319750   \n",
            "max     1226.277000   1395.767000  715.715000      63.332000      254.122000   \n",
            "\n",
            "       SulphidityL-4   \n",
            "count      324.000000  \n",
            "mean        30.411671  \n",
            "std          0.511773  \n",
            "min         29.010000  \n",
            "25%         30.340000  \n",
            "50%         30.411671  \n",
            "75%         30.411671  \n",
            "max         32.840000  \n",
            "\n",
            "[8 rows x 22 columns]\n"
          ]
        }
      ]
    }
  ]
}